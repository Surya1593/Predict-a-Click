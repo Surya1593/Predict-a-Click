{
 "cells": [
  {
   "cell_type": "code",
   "execution_count": 1,
   "metadata": {},
   "outputs": [],
   "source": [
    "import pandas as pd\n",
    "import numpy as np\n",
    "import matplotlib.pyplot as plt\n",
    "import seaborn as sns\n",
    "%matplotlib inline"
   ]
  },
  {
   "cell_type": "code",
   "execution_count": 2,
   "metadata": {},
   "outputs": [],
   "source": [
    " df = pd.read_csv('train_set.csv')"
   ]
  },
  {
   "cell_type": "markdown",
   "metadata": {},
   "source": [
    "# Analyzing the dataframe by checking the head and info"
   ]
  },
  {
   "cell_type": "code",
   "execution_count": 3,
   "metadata": {},
   "outputs": [
    {
     "data": {
      "text/html": [
       "<div>\n",
       "<style scoped>\n",
       "    .dataframe tbody tr th:only-of-type {\n",
       "        vertical-align: middle;\n",
       "    }\n",
       "\n",
       "    .dataframe tbody tr th {\n",
       "        vertical-align: top;\n",
       "    }\n",
       "\n",
       "    .dataframe thead th {\n",
       "        text-align: right;\n",
       "    }\n",
       "</style>\n",
       "<table border=\"1\" class=\"dataframe\">\n",
       "  <thead>\n",
       "    <tr style=\"text-align: right;\">\n",
       "      <th></th>\n",
       "      <th>hotel_id</th>\n",
       "      <th>city_id</th>\n",
       "      <th>content_score</th>\n",
       "      <th>n_images</th>\n",
       "      <th>distance_to_center</th>\n",
       "      <th>avg_rating</th>\n",
       "      <th>stars</th>\n",
       "      <th>n_reviews</th>\n",
       "      <th>avg_rank</th>\n",
       "      <th>avg_price</th>\n",
       "      <th>avg_saving_percent</th>\n",
       "      <th>n_clicks</th>\n",
       "    </tr>\n",
       "  </thead>\n",
       "  <tbody>\n",
       "    <tr>\n",
       "      <th>0</th>\n",
       "      <td>9.767406e+10</td>\n",
       "      <td>134520.0</td>\n",
       "      <td>70.0</td>\n",
       "      <td>2.0</td>\n",
       "      <td>1199.0</td>\n",
       "      <td>77.0</td>\n",
       "      <td>4.0</td>\n",
       "      <td>861.0</td>\n",
       "      <td>17.550</td>\n",
       "      <td>81.64</td>\n",
       "      <td>18.0</td>\n",
       "      <td>0</td>\n",
       "    </tr>\n",
       "    <tr>\n",
       "      <th>1</th>\n",
       "      <td>9.768889e+10</td>\n",
       "      <td>133876.0</td>\n",
       "      <td>67.0</td>\n",
       "      <td>3.0</td>\n",
       "      <td>12585.0</td>\n",
       "      <td>90.0</td>\n",
       "      <td>4.0</td>\n",
       "      <td>4371.0</td>\n",
       "      <td>17.383</td>\n",
       "      <td>189.38</td>\n",
       "      <td>28.0</td>\n",
       "      <td>4</td>\n",
       "    </tr>\n",
       "    <tr>\n",
       "      <th>2</th>\n",
       "      <td>9.811544e+10</td>\n",
       "      <td>133732.0</td>\n",
       "      <td>39.0</td>\n",
       "      <td>3.0</td>\n",
       "      <td>23491.0</td>\n",
       "      <td>83.0</td>\n",
       "      <td>3.0</td>\n",
       "      <td>1005.0</td>\n",
       "      <td>16.438</td>\n",
       "      <td>57.63</td>\n",
       "      <td>27.0</td>\n",
       "      <td>44</td>\n",
       "    </tr>\n",
       "    <tr>\n",
       "      <th>3</th>\n",
       "      <td>9.824279e+10</td>\n",
       "      <td>43772.0</td>\n",
       "      <td>59.0</td>\n",
       "      <td>8.0</td>\n",
       "      <td>3291.0</td>\n",
       "      <td>73.0</td>\n",
       "      <td>2.0</td>\n",
       "      <td>3084.0</td>\n",
       "      <td>7.000</td>\n",
       "      <td>72.16</td>\n",
       "      <td>2.0</td>\n",
       "      <td>4</td>\n",
       "    </tr>\n",
       "    <tr>\n",
       "      <th>4</th>\n",
       "      <td>9.833438e+10</td>\n",
       "      <td>50532.0</td>\n",
       "      <td>66.0</td>\n",
       "      <td>1.0</td>\n",
       "      <td>288.0</td>\n",
       "      <td>80.0</td>\n",
       "      <td>0.0</td>\n",
       "      <td>603.0</td>\n",
       "      <td>12.564</td>\n",
       "      <td>173.25</td>\n",
       "      <td>0.0</td>\n",
       "      <td>10</td>\n",
       "    </tr>\n",
       "  </tbody>\n",
       "</table>\n",
       "</div>"
      ],
      "text/plain": [
       "       hotel_id   city_id  content_score  n_images  distance_to_center  \\\n",
       "0  9.767406e+10  134520.0           70.0       2.0              1199.0   \n",
       "1  9.768889e+10  133876.0           67.0       3.0             12585.0   \n",
       "2  9.811544e+10  133732.0           39.0       3.0             23491.0   \n",
       "3  9.824279e+10   43772.0           59.0       8.0              3291.0   \n",
       "4  9.833438e+10   50532.0           66.0       1.0               288.0   \n",
       "\n",
       "   avg_rating  stars  n_reviews  avg_rank  avg_price  avg_saving_percent  \\\n",
       "0        77.0    4.0      861.0    17.550      81.64                18.0   \n",
       "1        90.0    4.0     4371.0    17.383     189.38                28.0   \n",
       "2        83.0    3.0     1005.0    16.438      57.63                27.0   \n",
       "3        73.0    2.0     3084.0     7.000      72.16                 2.0   \n",
       "4        80.0    0.0      603.0    12.564     173.25                 0.0   \n",
       "\n",
       "   n_clicks  \n",
       "0         0  \n",
       "1         4  \n",
       "2        44  \n",
       "3         4  \n",
       "4        10  "
      ]
     },
     "execution_count": 3,
     "metadata": {},
     "output_type": "execute_result"
    }
   ],
   "source": [
    "df.head()"
   ]
  },
  {
   "cell_type": "code",
   "execution_count": 4,
   "metadata": {},
   "outputs": [
    {
     "name": "stdout",
     "output_type": "stream",
     "text": [
      "<class 'pandas.core.frame.DataFrame'>\n",
      "RangeIndex: 396487 entries, 0 to 396486\n",
      "Data columns (total 12 columns):\n",
      "hotel_id              396487 non-null float64\n",
      "city_id               395979 non-null float64\n",
      "content_score         395979 non-null float64\n",
      "n_images              395978 non-null float64\n",
      "distance_to_center    395958 non-null float64\n",
      "avg_rating            286089 non-null float64\n",
      "stars                 395925 non-null float64\n",
      "n_reviews             395958 non-null float64\n",
      "avg_rank              396487 non-null float64\n",
      "avg_price             396317 non-null float64\n",
      "avg_saving_percent    396317 non-null float64\n",
      "n_clicks              396487 non-null int64\n",
      "dtypes: float64(11), int64(1)\n",
      "memory usage: 36.3 MB\n"
     ]
    }
   ],
   "source": [
    "df.info()"
   ]
  },
  {
   "cell_type": "markdown",
   "metadata": {},
   "source": [
    "# checking and plotting the nan values in the dataframe"
   ]
  },
  {
   "cell_type": "code",
   "execution_count": 5,
   "metadata": {},
   "outputs": [
    {
     "data": {
      "text/plain": [
       "hotel_id                   0\n",
       "city_id                  508\n",
       "content_score            508\n",
       "n_images                 509\n",
       "distance_to_center       529\n",
       "avg_rating            110398\n",
       "stars                    562\n",
       "n_reviews                529\n",
       "avg_rank                   0\n",
       "avg_price                170\n",
       "avg_saving_percent       170\n",
       "n_clicks                   0\n",
       "dtype: int64"
      ]
     },
     "execution_count": 5,
     "metadata": {},
     "output_type": "execute_result"
    }
   ],
   "source": [
    "df.isnull().sum()"
   ]
  },
  {
   "cell_type": "code",
   "execution_count": 6,
   "metadata": {
    "scrolled": true
   },
   "outputs": [
    {
     "data": {
      "text/plain": [
       "<matplotlib.axes._subplots.AxesSubplot at 0x20d701f74e0>"
      ]
     },
     "execution_count": 6,
     "metadata": {},
     "output_type": "execute_result"
    },
    {
     "data": {
      "image/png": "[encoded data removed]",
      "text/plain": [
       "<Figure size 1116x1008 with 1 Axes>"
      ]
     },
     "metadata": {
      "needs_background": "light"
     },
     "output_type": "display_data"
    }
   ],
   "source": [
    "plt.figure(figsize=(15.5,14))\n",
    "sns.heatmap(df.isnull(), cbar = False, yticklabels= False, cmap = 'viridis')"
   ]
  },
  {
   "cell_type": "markdown",
   "metadata": {},
   "source": [
    "As we can see from the above graph the nan values in column are missing in the same rows except the columns in avg_price and avg_saving_percent\n",
    "\n",
    "Also we have a large number of nan values in avg_rating"
   ]
  },
  {
   "cell_type": "markdown",
   "metadata": {},
   "source": [
    "# Dropping the nan values and filling the avg_rating nan values"
   ]
  },
  {
   "cell_type": "code",
   "execution_count": 7,
   "metadata": {},
   "outputs": [
    {
     "data": {
      "text/plain": [
       "33213"
      ]
     },
     "execution_count": 7,
     "metadata": {},
     "output_type": "execute_result"
    }
   ],
   "source": [
    "df['city_id'].nunique()"
   ]
  },
  {
   "cell_type": "code",
   "execution_count": 8,
   "metadata": {},
   "outputs": [
    {
     "data": {
      "text/plain": [
       "396487"
      ]
     },
     "execution_count": 8,
     "metadata": {},
     "output_type": "execute_result"
    }
   ],
   "source": [
    "df['hotel_id'].nunique()"
   ]
  },
  {
   "cell_type": "code",
   "execution_count": 9,
   "metadata": {},
   "outputs": [],
   "source": [
    "df.drop(['hotel_id', 'city_id'], inplace = True, axis = 1)"
   ]
  },
  {
   "cell_type": "markdown",
   "metadata": {},
   "source": [
    "Due to memory constrains and less correlation of city_id feature with number of clicks we can safely ignore the respective feature."
   ]
  },
  {
   "cell_type": "code",
   "execution_count": 10,
   "metadata": {},
   "outputs": [],
   "source": [
    "df_na = df.dropna(subset = (['content_score', 'distance_to_center', 'avg_price', 'stars']))"
   ]
  },
  {
   "cell_type": "code",
   "execution_count": 11,
   "metadata": {},
   "outputs": [
    {
     "data": {
      "text/html": [
       "<div>\n",
       "<style scoped>\n",
       "    .dataframe tbody tr th:only-of-type {\n",
       "        vertical-align: middle;\n",
       "    }\n",
       "\n",
       "    .dataframe tbody tr th {\n",
       "        vertical-align: top;\n",
       "    }\n",
       "\n",
       "    .dataframe thead th {\n",
       "        text-align: right;\n",
       "    }\n",
       "</style>\n",
       "<table border=\"1\" class=\"dataframe\">\n",
       "  <thead>\n",
       "    <tr style=\"text-align: right;\">\n",
       "      <th></th>\n",
       "      <th>content_score</th>\n",
       "      <th>n_images</th>\n",
       "      <th>distance_to_center</th>\n",
       "      <th>avg_rating</th>\n",
       "      <th>stars</th>\n",
       "      <th>n_reviews</th>\n",
       "      <th>avg_rank</th>\n",
       "      <th>avg_price</th>\n",
       "      <th>avg_saving_percent</th>\n",
       "      <th>n_clicks</th>\n",
       "    </tr>\n",
       "  </thead>\n",
       "  <tbody>\n",
       "    <tr>\n",
       "      <th>0</th>\n",
       "      <td>70.0</td>\n",
       "      <td>2.0</td>\n",
       "      <td>1199.0</td>\n",
       "      <td>77.0</td>\n",
       "      <td>4.0</td>\n",
       "      <td>861.0</td>\n",
       "      <td>17.550</td>\n",
       "      <td>81.64</td>\n",
       "      <td>18.0</td>\n",
       "      <td>0</td>\n",
       "    </tr>\n",
       "    <tr>\n",
       "      <th>1</th>\n",
       "      <td>67.0</td>\n",
       "      <td>3.0</td>\n",
       "      <td>12585.0</td>\n",
       "      <td>90.0</td>\n",
       "      <td>4.0</td>\n",
       "      <td>4371.0</td>\n",
       "      <td>17.383</td>\n",
       "      <td>189.38</td>\n",
       "      <td>28.0</td>\n",
       "      <td>4</td>\n",
       "    </tr>\n",
       "    <tr>\n",
       "      <th>2</th>\n",
       "      <td>39.0</td>\n",
       "      <td>3.0</td>\n",
       "      <td>23491.0</td>\n",
       "      <td>83.0</td>\n",
       "      <td>3.0</td>\n",
       "      <td>1005.0</td>\n",
       "      <td>16.438</td>\n",
       "      <td>57.63</td>\n",
       "      <td>27.0</td>\n",
       "      <td>44</td>\n",
       "    </tr>\n",
       "    <tr>\n",
       "      <th>3</th>\n",
       "      <td>59.0</td>\n",
       "      <td>8.0</td>\n",
       "      <td>3291.0</td>\n",
       "      <td>73.0</td>\n",
       "      <td>2.0</td>\n",
       "      <td>3084.0</td>\n",
       "      <td>7.000</td>\n",
       "      <td>72.16</td>\n",
       "      <td>2.0</td>\n",
       "      <td>4</td>\n",
       "    </tr>\n",
       "    <tr>\n",
       "      <th>4</th>\n",
       "      <td>66.0</td>\n",
       "      <td>1.0</td>\n",
       "      <td>288.0</td>\n",
       "      <td>80.0</td>\n",
       "      <td>0.0</td>\n",
       "      <td>603.0</td>\n",
       "      <td>12.564</td>\n",
       "      <td>173.25</td>\n",
       "      <td>0.0</td>\n",
       "      <td>10</td>\n",
       "    </tr>\n",
       "  </tbody>\n",
       "</table>\n",
       "</div>"
      ],
      "text/plain": [
       "   content_score  n_images  distance_to_center  avg_rating  stars  n_reviews  \\\n",
       "0           70.0       2.0              1199.0        77.0    4.0      861.0   \n",
       "1           67.0       3.0             12585.0        90.0    4.0     4371.0   \n",
       "2           39.0       3.0             23491.0        83.0    3.0     1005.0   \n",
       "3           59.0       8.0              3291.0        73.0    2.0     3084.0   \n",
       "4           66.0       1.0               288.0        80.0    0.0      603.0   \n",
       "\n",
       "   avg_rank  avg_price  avg_saving_percent  n_clicks  \n",
       "0    17.550      81.64                18.0         0  \n",
       "1    17.383     189.38                28.0         4  \n",
       "2    16.438      57.63                27.0        44  \n",
       "3     7.000      72.16                 2.0         4  \n",
       "4    12.564     173.25                 0.0        10  "
      ]
     },
     "execution_count": 11,
     "metadata": {},
     "output_type": "execute_result"
    }
   ],
   "source": [
    "df_na.head()"
   ]
  },
  {
   "cell_type": "code",
   "execution_count": 12,
   "metadata": {},
   "outputs": [
    {
     "data": {
      "text/plain": [
       "content_score              0\n",
       "n_images                   0\n",
       "distance_to_center         0\n",
       "avg_rating            109734\n",
       "stars                      0\n",
       "n_reviews                  0\n",
       "avg_rank                   0\n",
       "avg_price                  0\n",
       "avg_saving_percent         0\n",
       "n_clicks                   0\n",
       "dtype: int64"
      ]
     },
     "execution_count": 12,
     "metadata": {},
     "output_type": "execute_result"
    }
   ],
   "source": [
    "df_na.isnull().sum()"
   ]
  },
  {
   "cell_type": "code",
   "execution_count": 13,
   "metadata": {},
   "outputs": [
    {
     "data": {
      "text/plain": [
       "<matplotlib.axes._subplots.AxesSubplot at 0x20d6f511a58>"
      ]
     },
     "execution_count": 13,
     "metadata": {},
     "output_type": "execute_result"
    },
    {
     "data": {
      "image/png": "[encoded data removed]",
      "text/plain": [
       "<Figure size 432x288 with 1 Axes>"
      ]
     },
     "metadata": {
      "needs_background": "light"
     },
     "output_type": "display_data"
    }
   ],
   "source": [
    "sns.barplot(x = 'stars', y = 'avg_rating', data = df_na)"
   ]
  },
  {
   "cell_type": "markdown",
   "metadata": {},
   "source": [
    "Filling the nan values of avg_rating with respect to the mean of avg_rating for idividual star rating of the hotel."
   ]
  },
  {
   "cell_type": "code",
   "execution_count": 14,
   "metadata": {},
   "outputs": [],
   "source": [
    "mean_avg_rating_star = df_na.groupby('stars').avg_rating.mean()"
   ]
  },
  {
   "cell_type": "code",
   "execution_count": 15,
   "metadata": {},
   "outputs": [
    {
     "name": "stderr",
     "output_type": "stream",
     "text": [
      "C:\\Users\\surya\\Anaconda3\\lib\\site-packages\\pandas\\core\\generic.py:5096: SettingWithCopyWarning: \n",
      "A value is trying to be set on a copy of a slice from a DataFrame.\n",
      "Try using .loc[row_indexer,col_indexer] = value instead\n",
      "\n",
      "See the caveats in the documentation: http://pandas.pydata.org/pandas-docs/stable/indexing.html#indexing-view-versus-copy\n",
      "  self[name] = value\n"
     ]
    }
   ],
   "source": [
    "df_na.avg_rating = df_na.groupby('stars')['avg_rating'].apply(lambda x: x.fillna(x.mean()))"
   ]
  },
  {
   "cell_type": "code",
   "execution_count": 16,
   "metadata": {},
   "outputs": [
    {
     "data": {
      "text/plain": [
       "content_score         0\n",
       "n_images              0\n",
       "distance_to_center    0\n",
       "avg_rating            0\n",
       "stars                 0\n",
       "n_reviews             0\n",
       "avg_rank              0\n",
       "avg_price             0\n",
       "avg_saving_percent    0\n",
       "n_clicks              0\n",
       "dtype: int64"
      ]
     },
     "execution_count": 16,
     "metadata": {},
     "output_type": "execute_result"
    }
   ],
   "source": [
    "df_na.isnull().sum()"
   ]
  },
  {
   "cell_type": "code",
   "execution_count": 17,
   "metadata": {},
   "outputs": [
    {
     "name": "stdout",
     "output_type": "stream",
     "text": [
      "<class 'pandas.core.frame.DataFrame'>\n",
      "Int64Index: 395760 entries, 0 to 396473\n",
      "Data columns (total 10 columns):\n",
      "content_score         395760 non-null float64\n",
      "n_images              395760 non-null float64\n",
      "distance_to_center    395760 non-null float64\n",
      "avg_rating            395760 non-null float64\n",
      "stars                 395760 non-null float64\n",
      "n_reviews             395760 non-null float64\n",
      "avg_rank              395760 non-null float64\n",
      "avg_price             395760 non-null float64\n",
      "avg_saving_percent    395760 non-null float64\n",
      "n_clicks              395760 non-null int64\n",
      "dtypes: float64(9), int64(1)\n",
      "memory usage: 43.2 MB\n"
     ]
    }
   ],
   "source": [
    "df_na.info()"
   ]
  },
  {
   "cell_type": "code",
   "execution_count": 18,
   "metadata": {},
   "outputs": [
    {
     "data": {
      "text/html": [
       "<div>\n",
       "<style scoped>\n",
       "    .dataframe tbody tr th:only-of-type {\n",
       "        vertical-align: middle;\n",
       "    }\n",
       "\n",
       "    .dataframe tbody tr th {\n",
       "        vertical-align: top;\n",
       "    }\n",
       "\n",
       "    .dataframe thead th {\n",
       "        text-align: right;\n",
       "    }\n",
       "</style>\n",
       "<table border=\"1\" class=\"dataframe\">\n",
       "  <thead>\n",
       "    <tr style=\"text-align: right;\">\n",
       "      <th></th>\n",
       "      <th>content_score</th>\n",
       "      <th>n_images</th>\n",
       "      <th>distance_to_center</th>\n",
       "      <th>avg_rating</th>\n",
       "      <th>stars</th>\n",
       "      <th>n_reviews</th>\n",
       "      <th>avg_rank</th>\n",
       "      <th>avg_price</th>\n",
       "      <th>avg_saving_percent</th>\n",
       "      <th>n_clicks</th>\n",
       "    </tr>\n",
       "  </thead>\n",
       "  <tbody>\n",
       "    <tr>\n",
       "      <th>count</th>\n",
       "      <td>395760.000000</td>\n",
       "      <td>3.957600e+05</td>\n",
       "      <td>3.957600e+05</td>\n",
       "      <td>395760.000000</td>\n",
       "      <td>395760.000000</td>\n",
       "      <td>395760.000000</td>\n",
       "      <td>395760.000000</td>\n",
       "      <td>395760.000000</td>\n",
       "      <td>395760.000000</td>\n",
       "      <td>395760.000000</td>\n",
       "    </tr>\n",
       "    <tr>\n",
       "      <th>mean</th>\n",
       "      <td>50.998168</td>\n",
       "      <td>2.594637e+02</td>\n",
       "      <td>1.634567e+04</td>\n",
       "      <td>81.890399</td>\n",
       "      <td>1.159817</td>\n",
       "      <td>913.977024</td>\n",
       "      <td>14.698238</td>\n",
       "      <td>109.305688</td>\n",
       "      <td>7.179389</td>\n",
       "      <td>13.790722</td>\n",
       "    </tr>\n",
       "    <tr>\n",
       "      <th>std</th>\n",
       "      <td>11.559788</td>\n",
       "      <td>1.732158e+04</td>\n",
       "      <td>2.752866e+05</td>\n",
       "      <td>5.163673</td>\n",
       "      <td>1.619751</td>\n",
       "      <td>2432.950137</td>\n",
       "      <td>5.600627</td>\n",
       "      <td>148.138436</td>\n",
       "      <td>13.081077</td>\n",
       "      <td>123.644148</td>\n",
       "    </tr>\n",
       "    <tr>\n",
       "      <th>min</th>\n",
       "      <td>7.000000</td>\n",
       "      <td>-1.000000e+00</td>\n",
       "      <td>0.000000e+00</td>\n",
       "      <td>34.000000</td>\n",
       "      <td>0.000000</td>\n",
       "      <td>0.000000</td>\n",
       "      <td>1.000000</td>\n",
       "      <td>4.000000</td>\n",
       "      <td>0.000000</td>\n",
       "      <td>0.000000</td>\n",
       "    </tr>\n",
       "    <tr>\n",
       "      <th>25%</th>\n",
       "      <td>45.000000</td>\n",
       "      <td>0.000000e+00</td>\n",
       "      <td>5.440000e+02</td>\n",
       "      <td>80.000000</td>\n",
       "      <td>0.000000</td>\n",
       "      <td>0.000000</td>\n",
       "      <td>11.100000</td>\n",
       "      <td>51.040000</td>\n",
       "      <td>0.000000</td>\n",
       "      <td>0.000000</td>\n",
       "    </tr>\n",
       "    <tr>\n",
       "      <th>50%</th>\n",
       "      <td>53.000000</td>\n",
       "      <td>1.000000e+00</td>\n",
       "      <td>1.516000e+03</td>\n",
       "      <td>82.767223</td>\n",
       "      <td>0.000000</td>\n",
       "      <td>189.000000</td>\n",
       "      <td>15.000000</td>\n",
       "      <td>77.640000</td>\n",
       "      <td>0.000000</td>\n",
       "      <td>0.000000</td>\n",
       "    </tr>\n",
       "    <tr>\n",
       "      <th>75%</th>\n",
       "      <td>59.000000</td>\n",
       "      <td>2.000000e+00</td>\n",
       "      <td>4.163000e+03</td>\n",
       "      <td>85.000000</td>\n",
       "      <td>3.000000</td>\n",
       "      <td>777.000000</td>\n",
       "      <td>18.375000</td>\n",
       "      <td>120.920000</td>\n",
       "      <td>10.000000</td>\n",
       "      <td>2.000000</td>\n",
       "    </tr>\n",
       "    <tr>\n",
       "      <th>max</th>\n",
       "      <td>81.000000</td>\n",
       "      <td>2.393911e+06</td>\n",
       "      <td>1.834155e+07</td>\n",
       "      <td>97.000000</td>\n",
       "      <td>5.000000</td>\n",
       "      <td>283089.000000</td>\n",
       "      <td>100.000000</td>\n",
       "      <td>8000.000000</td>\n",
       "      <td>99.000000</td>\n",
       "      <td>13742.000000</td>\n",
       "    </tr>\n",
       "  </tbody>\n",
       "</table>\n",
       "</div>"
      ],
      "text/plain": [
       "       content_score      n_images  distance_to_center     avg_rating  \\\n",
       "count  395760.000000  3.957600e+05        3.957600e+05  395760.000000   \n",
       "mean       50.998168  2.594637e+02        1.634567e+04      81.890399   \n",
       "std        11.559788  1.732158e+04        2.752866e+05       5.163673   \n",
       "min         7.000000 -1.000000e+00        0.000000e+00      34.000000   \n",
       "25%        45.000000  0.000000e+00        5.440000e+02      80.000000   \n",
       "50%        53.000000  1.000000e+00        1.516000e+03      82.767223   \n",
       "75%        59.000000  2.000000e+00        4.163000e+03      85.000000   \n",
       "max        81.000000  2.393911e+06        1.834155e+07      97.000000   \n",
       "\n",
       "               stars      n_reviews       avg_rank      avg_price  \\\n",
       "count  395760.000000  395760.000000  395760.000000  395760.000000   \n",
       "mean        1.159817     913.977024      14.698238     109.305688   \n",
       "std         1.619751    2432.950137       5.600627     148.138436   \n",
       "min         0.000000       0.000000       1.000000       4.000000   \n",
       "25%         0.000000       0.000000      11.100000      51.040000   \n",
       "50%         0.000000     189.000000      15.000000      77.640000   \n",
       "75%         3.000000     777.000000      18.375000     120.920000   \n",
       "max         5.000000  283089.000000     100.000000    8000.000000   \n",
       "\n",
       "       avg_saving_percent       n_clicks  \n",
       "count       395760.000000  395760.000000  \n",
       "mean             7.179389      13.790722  \n",
       "std             13.081077     123.644148  \n",
       "min              0.000000       0.000000  \n",
       "25%              0.000000       0.000000  \n",
       "50%              0.000000       0.000000  \n",
       "75%             10.000000       2.000000  \n",
       "max             99.000000   13742.000000  "
      ]
     },
     "execution_count": 18,
     "metadata": {},
     "output_type": "execute_result"
    }
   ],
   "source": [
    "df_na.describe()"
   ]
  },
  {
   "cell_type": "markdown",
   "metadata": {},
   "source": [
    "# Identifying and removing the outliers from the dataframe"
   ]
  },
  {
   "cell_type": "code",
   "execution_count": 19,
   "metadata": {},
   "outputs": [
    {
     "data": {
      "image/png": "[encoded data removed]",
      "text/plain": [
       "<Figure size 864x576 with 6 Axes>"
      ]
     },
     "metadata": {
      "needs_background": "light"
     },
     "output_type": "display_data"
    }
   ],
   "source": [
    "fig, ax = plt.subplots(2,3,figsize = (12,8))\n",
    "col = np.where(df_na.index>df_na.index.max(),'b',np.where(df_na.n_images>df_na.n_images.quantile(0.99),'r','b'))\n",
    "ax[0,0].scatter(df_na.index, df_na.n_images, c = col)\n",
    "ax[0,0].set_title('Number of images')\n",
    "\n",
    "\n",
    "col1 = np.where(df_na.index>df_na.index.max(),'b',np.where(df_na.distance_to_center>df_na.distance_to_center.quantile(0.99),'r','b'))\n",
    "ax[0,1].scatter(df_na.index, df_na.distance_to_center, c=col1)\n",
    "ax[0,1].set_title('Distance to center')\n",
    "\n",
    "\n",
    "col2 = np.where(df_na.index>df_na.index.max(),'b',np.where(df_na.n_reviews>df_na.n_reviews.quantile(0.99),'r','b'))\n",
    "ax[1,1].scatter(df_na.index, df_na.n_reviews, c=col2)\n",
    "ax[1,1].set_title('Number of reviews')\n",
    "\n",
    "\n",
    "\n",
    "col3 = np.where(df_na.index>df_na.index.max(),'b',np.where(df_na.avg_price>df_na.avg_price.quantile(0.99),'r','b'))\n",
    "ax[1,0].scatter(df_na.index, df_na.avg_price,  c=col3)\n",
    "ax[1,0].set_title('Average Price')\n",
    "\n",
    "col4 = np.where(df_na.index>df_na.index.max(),'b',np.where(df_na.n_clicks>df_na.n_clicks.quantile(0.99),'r','b'))\n",
    "ax[0,2].scatter(df_na.index, df_na.n_clicks,  c=col4)\n",
    "ax[0,2].set_title('Number of clicks')\n",
    "\n",
    "\n",
    "plt.tight_layout()"
   ]
  },
  {
   "cell_type": "markdown",
   "metadata": {},
   "source": [
    "As seen in the describtion of the dataframe the max values are very high. By analyzing a scatter plot I decided to consider only 0.99 quantile of the data"
   ]
  },
  {
   "cell_type": "code",
   "execution_count": 20,
   "metadata": {},
   "outputs": [],
   "source": [
    "quantile = df_na[['avg_price','n_reviews','n_images','distance_to_center','n_clicks']].quantile(.99)"
   ]
  },
  {
   "cell_type": "code",
   "execution_count": 21,
   "metadata": {},
   "outputs": [],
   "source": [
    "data = df_na.query(f\"\"\"n_images<={quantile.n_images} & n_reviews<={quantile.n_reviews} & avg_price<= {quantile.avg_price} & distance_to_center<={quantile.distance_to_center} & n_clicks<={quantile.n_clicks}\"\"\")"
   ]
  },
  {
   "cell_type": "code",
   "execution_count": 22,
   "metadata": {},
   "outputs": [
    {
     "data": {
      "text/html": [
       "<div>\n",
       "<style scoped>\n",
       "    .dataframe tbody tr th:only-of-type {\n",
       "        vertical-align: middle;\n",
       "    }\n",
       "\n",
       "    .dataframe tbody tr th {\n",
       "        vertical-align: top;\n",
       "    }\n",
       "\n",
       "    .dataframe thead th {\n",
       "        text-align: right;\n",
       "    }\n",
       "</style>\n",
       "<table border=\"1\" class=\"dataframe\">\n",
       "  <thead>\n",
       "    <tr style=\"text-align: right;\">\n",
       "      <th></th>\n",
       "      <th>content_score</th>\n",
       "      <th>n_images</th>\n",
       "      <th>distance_to_center</th>\n",
       "      <th>avg_rating</th>\n",
       "      <th>stars</th>\n",
       "      <th>n_reviews</th>\n",
       "      <th>avg_rank</th>\n",
       "      <th>avg_price</th>\n",
       "      <th>avg_saving_percent</th>\n",
       "      <th>n_clicks</th>\n",
       "    </tr>\n",
       "  </thead>\n",
       "  <tbody>\n",
       "    <tr>\n",
       "      <th>0</th>\n",
       "      <td>70.0</td>\n",
       "      <td>2.0</td>\n",
       "      <td>1199.0</td>\n",
       "      <td>77.0</td>\n",
       "      <td>4.0</td>\n",
       "      <td>861.0</td>\n",
       "      <td>17.550</td>\n",
       "      <td>81.64</td>\n",
       "      <td>18.0</td>\n",
       "      <td>0</td>\n",
       "    </tr>\n",
       "    <tr>\n",
       "      <th>1</th>\n",
       "      <td>67.0</td>\n",
       "      <td>3.0</td>\n",
       "      <td>12585.0</td>\n",
       "      <td>90.0</td>\n",
       "      <td>4.0</td>\n",
       "      <td>4371.0</td>\n",
       "      <td>17.383</td>\n",
       "      <td>189.38</td>\n",
       "      <td>28.0</td>\n",
       "      <td>4</td>\n",
       "    </tr>\n",
       "    <tr>\n",
       "      <th>2</th>\n",
       "      <td>39.0</td>\n",
       "      <td>3.0</td>\n",
       "      <td>23491.0</td>\n",
       "      <td>83.0</td>\n",
       "      <td>3.0</td>\n",
       "      <td>1005.0</td>\n",
       "      <td>16.438</td>\n",
       "      <td>57.63</td>\n",
       "      <td>27.0</td>\n",
       "      <td>44</td>\n",
       "    </tr>\n",
       "    <tr>\n",
       "      <th>3</th>\n",
       "      <td>59.0</td>\n",
       "      <td>8.0</td>\n",
       "      <td>3291.0</td>\n",
       "      <td>73.0</td>\n",
       "      <td>2.0</td>\n",
       "      <td>3084.0</td>\n",
       "      <td>7.000</td>\n",
       "      <td>72.16</td>\n",
       "      <td>2.0</td>\n",
       "      <td>4</td>\n",
       "    </tr>\n",
       "    <tr>\n",
       "      <th>4</th>\n",
       "      <td>66.0</td>\n",
       "      <td>1.0</td>\n",
       "      <td>288.0</td>\n",
       "      <td>80.0</td>\n",
       "      <td>0.0</td>\n",
       "      <td>603.0</td>\n",
       "      <td>12.564</td>\n",
       "      <td>173.25</td>\n",
       "      <td>0.0</td>\n",
       "      <td>10</td>\n",
       "    </tr>\n",
       "  </tbody>\n",
       "</table>\n",
       "</div>"
      ],
      "text/plain": [
       "   content_score  n_images  distance_to_center  avg_rating  stars  n_reviews  \\\n",
       "0           70.0       2.0              1199.0        77.0    4.0      861.0   \n",
       "1           67.0       3.0             12585.0        90.0    4.0     4371.0   \n",
       "2           39.0       3.0             23491.0        83.0    3.0     1005.0   \n",
       "3           59.0       8.0              3291.0        73.0    2.0     3084.0   \n",
       "4           66.0       1.0               288.0        80.0    0.0      603.0   \n",
       "\n",
       "   avg_rank  avg_price  avg_saving_percent  n_clicks  \n",
       "0    17.550      81.64                18.0         0  \n",
       "1    17.383     189.38                28.0         4  \n",
       "2    16.438      57.63                27.0        44  \n",
       "3     7.000      72.16                 2.0         4  \n",
       "4    12.564     173.25                 0.0        10  "
      ]
     },
     "execution_count": 22,
     "metadata": {},
     "output_type": "execute_result"
    }
   ],
   "source": [
    "data.head()"
   ]
  },
  {
   "cell_type": "markdown",
   "metadata": {},
   "source": [
    "# Checking the correlation of the dataframe"
   ]
  },
  {
   "cell_type": "code",
   "execution_count": 23,
   "metadata": {},
   "outputs": [
    {
     "data": {
      "text/plain": [
       "<matplotlib.axes._subplots.AxesSubplot at 0x20d700fea58>"
      ]
     },
     "execution_count": 23,
     "metadata": {},
     "output_type": "execute_result"
    },
    {
     "data": {
      "image/png": "[encoded data removed]",
      "text/plain": [
       "<Figure size 720x504 with 2 Axes>"
      ]
     },
     "metadata": {
      "needs_background": "light"
     },
     "output_type": "display_data"
    }
   ],
   "source": [
    "corr = data.corr()\n",
    "mask = np.zeros_like(corr, dtype=np.bool)\n",
    "mask[np.triu_indices_from(mask)] = True\n",
    "plt.figure(figsize=(10,7))\n",
    "sns.heatmap(data.corr(),mask = mask, cmap = 'coolwarm',annot =True, square = True)"
   ]
  },
  {
   "cell_type": "markdown",
   "metadata": {},
   "source": [
    "From the correlation we could understand the following features influence the n_clicks"
   ]
  },
  {
   "cell_type": "code",
   "execution_count": 24,
   "metadata": {},
   "outputs": [
    {
     "data": {
      "text/plain": [
       "content_score         0.180010\n",
       "n_images              0.260724\n",
       "distance_to_center   -0.029293\n",
       "avg_rating           -0.031646\n",
       "stars                 0.227789\n",
       "n_reviews             0.268852\n",
       "avg_rank             -0.123291\n",
       "avg_price             0.040331\n",
       "avg_saving_percent    0.213236\n",
       "n_clicks              1.000000\n",
       "dtype: float64"
      ]
     },
     "execution_count": 24,
     "metadata": {},
     "output_type": "execute_result"
    }
   ],
   "source": [
    "data.corrwith(data.n_clicks)"
   ]
  },
  {
   "cell_type": "markdown",
   "metadata": {},
   "source": [
    "# Normalisingthe data"
   ]
  },
  {
   "cell_type": "markdown",
   "metadata": {},
   "source": [
    "As the data in this dataset varies from different range of numbers we use StandardScaler to transform the data in such a manner that it has mean as 0 and standard deviation as 1"
   ]
  },
  {
   "cell_type": "code",
   "execution_count": 25,
   "metadata": {},
   "outputs": [],
   "source": [
    "from sklearn.model_selection import train_test_split"
   ]
  },
  {
   "cell_type": "code",
   "execution_count": 26,
   "metadata": {},
   "outputs": [],
   "source": [
    "X=data.drop('n_clicks',axis =1)\n",
    "y = data['n_clicks']\n",
    "\n",
    "X_train, X_test, y_train, y_test = train_test_split(X , y , test_size = 0.1, random_state =42)"
   ]
  },
  {
   "cell_type": "code",
   "execution_count": 27,
   "metadata": {},
   "outputs": [],
   "source": [
    "from sklearn.preprocessing import StandardScaler"
   ]
  },
  {
   "cell_type": "code",
   "execution_count": 28,
   "metadata": {},
   "outputs": [],
   "source": [
    "sc = StandardScaler()"
   ]
  },
  {
   "cell_type": "code",
   "execution_count": 29,
   "metadata": {},
   "outputs": [],
   "source": [
    "sc_x = sc.fit(X_train)"
   ]
  },
  {
   "cell_type": "code",
   "execution_count": 30,
   "metadata": {},
   "outputs": [],
   "source": [
    "sc_x = sc.transform(X_train)"
   ]
  },
  {
   "cell_type": "code",
   "execution_count": 31,
   "metadata": {},
   "outputs": [],
   "source": [
    "sc_x_t = sc.transform(X_test)"
   ]
  },
  {
   "cell_type": "markdown",
   "metadata": {},
   "source": [
    "# Model Selection"
   ]
  },
  {
   "cell_type": "markdown",
   "metadata": {},
   "source": [
    "Zero-inflated model:\n",
    "\n",
    "Zero-inflatedPoisson regression model is used to model count data that has an excess of zero counts. The zero-inflated Poisson (ZIP) model employs two components. The first process is governed by a binary distribution that generates structural zeros. The second process is governed by a Poisson distribution that generates counts, some of which may be zero. "
   ]
  },
  {
   "cell_type": "code",
   "execution_count": 32,
   "metadata": {},
   "outputs": [],
   "source": [
    "from statsmodels.discrete.count_model import ZeroInflatedPoisson as ZIP"
   ]
  },
  {
   "cell_type": "code",
   "execution_count": 33,
   "metadata": {},
   "outputs": [
    {
     "name": "stderr",
     "output_type": "stream",
     "text": [
      "C:\\Users\\surya\\Anaconda3\\lib\\site-packages\\statsmodels\\base\\model.py:512: ConvergenceWarning: Maximum Likelihood optimization failed to converge. Check mle_retvals\n",
      "  \"Check mle_retvals\", ConvergenceWarning)\n"
     ]
    },
    {
     "name": "stdout",
     "output_type": "stream",
     "text": [
      "Optimization terminated successfully.\n",
      "         Current function value: 4.340044\n",
      "         Iterations: 17\n",
      "         Function evaluations: 23\n",
      "         Gradient evaluations: 23\n"
     ]
    }
   ],
   "source": [
    "model = ZIP(endog = (y_train/2).astype(int), exog=sc_x).fit()"
   ]
  },
  {
   "cell_type": "markdown",
   "metadata": {},
   "source": [
    "As observed in the target column n-clicks the data is in even numbers so to match the values we divide the y_train data by 2 "
   ]
  },
  {
   "cell_type": "code",
   "execution_count": 34,
   "metadata": {},
   "outputs": [],
   "source": [
    "predict = model.predict(sc_x_t, exog_infl=np.ones((len(sc_x_t),1)))"
   ]
  },
  {
   "cell_type": "code",
   "execution_count": 35,
   "metadata": {},
   "outputs": [],
   "source": [
    "pred_zip = predict*2"
   ]
  },
  {
   "cell_type": "markdown",
   "metadata": {},
   "source": [
    "we multiply predicted values again by 2 as the y_train predicts only half"
   ]
  },
  {
   "cell_type": "code",
   "execution_count": 36,
   "metadata": {},
   "outputs": [],
   "source": [
    "def normalised_weighted_mean_square_error(y_test, predict):\n",
    "    \n",
    "    weight = np.log(y_test + 1) +1\n",
    "    square_error = (predict - y_test)**2\n",
    "    weighted_square_error = (weight*square_error).sum()\n",
    "    weighted_mean_squar_error = weighted_square_error/len(weight)\n",
    "    normalised_weighted_mean_squared_error = weighted_mean_squar_error/sum(weight)\n",
    "    return normalised_weighted_mean_squared_error"
   ]
  },
  {
   "cell_type": "markdown",
   "metadata": {},
   "source": [
    "normalized weighted mean square error for validation"
   ]
  },
  {
   "cell_type": "code",
   "execution_count": 37,
   "metadata": {},
   "outputs": [
    {
     "data": {
      "text/plain": [
       "0.03514984071055207"
      ]
     },
     "execution_count": 37,
     "metadata": {},
     "output_type": "execute_result"
    }
   ],
   "source": [
    "normalised_weighted_mean_square_error(y_test, pred_zip)"
   ]
  },
  {
   "cell_type": "code",
   "execution_count": 38,
   "metadata": {},
   "outputs": [],
   "source": [
    "from sklearn.model_selection import KFold"
   ]
  },
  {
   "cell_type": "markdown",
   "metadata": {},
   "source": [
    "Cross-validation is a resampling procedure used to evaluate machine learning models on a data sample.\n",
    "\n",
    "KFold cross validator provides train/test indices to train/test sets. Kfold shuffels the data into K consecutive folds instead of default shuffling.\n",
    "\n",
    "That KFold cross validation is a procedure used to estimate the skill of the model on new data.\n",
    "\n",
    "The procedure has a single parameter k that refers to the number of groups the given data is split"
   ]
  },
  {
   "cell_type": "code",
   "execution_count": 39,
   "metadata": {},
   "outputs": [],
   "source": [
    "kf = KFold(n_splits=5, random_state =42)"
   ]
  },
  {
   "cell_type": "code",
   "execution_count": 40,
   "metadata": {
    "scrolled": false
   },
   "outputs": [
    {
     "name": "stderr",
     "output_type": "stream",
     "text": [
      "C:\\Users\\surya\\Anaconda3\\lib\\site-packages\\statsmodels\\base\\model.py:512: ConvergenceWarning: Maximum Likelihood optimization failed to converge. Check mle_retvals\n",
      "  \"Check mle_retvals\", ConvergenceWarning)\n"
     ]
    },
    {
     "name": "stdout",
     "output_type": "stream",
     "text": [
      "Optimization terminated successfully.\n",
      "         Current function value: 4.141583\n",
      "         Iterations: 17\n",
      "         Function evaluations: 22\n",
      "         Gradient evaluations: 22\n",
      "K-Fold 1: Error-2.07%\n"
     ]
    },
    {
     "name": "stderr",
     "output_type": "stream",
     "text": [
      "C:\\Users\\surya\\Anaconda3\\lib\\site-packages\\statsmodels\\base\\model.py:512: ConvergenceWarning: Maximum Likelihood optimization failed to converge. Check mle_retvals\n",
      "  \"Check mle_retvals\", ConvergenceWarning)\n"
     ]
    },
    {
     "name": "stdout",
     "output_type": "stream",
     "text": [
      "Optimization terminated successfully.\n",
      "         Current function value: 4.080141\n",
      "         Iterations: 18\n",
      "         Function evaluations: 24\n",
      "         Gradient evaluations: 24\n",
      "K-Fold 2: Error-2.18%\n"
     ]
    },
    {
     "name": "stderr",
     "output_type": "stream",
     "text": [
      "C:\\Users\\surya\\Anaconda3\\lib\\site-packages\\statsmodels\\base\\model.py:512: ConvergenceWarning: Maximum Likelihood optimization failed to converge. Check mle_retvals\n",
      "  \"Check mle_retvals\", ConvergenceWarning)\n"
     ]
    },
    {
     "name": "stdout",
     "output_type": "stream",
     "text": [
      "Optimization terminated successfully.\n",
      "         Current function value: 4.265507\n",
      "         Iterations: 17\n",
      "         Function evaluations: 22\n",
      "         Gradient evaluations: 22\n",
      "K-Fold 3: Error-1.89%\n"
     ]
    },
    {
     "name": "stderr",
     "output_type": "stream",
     "text": [
      "C:\\Users\\surya\\Anaconda3\\lib\\site-packages\\statsmodels\\base\\model.py:512: ConvergenceWarning: Maximum Likelihood optimization failed to converge. Check mle_retvals\n",
      "  \"Check mle_retvals\", ConvergenceWarning)\n"
     ]
    },
    {
     "name": "stdout",
     "output_type": "stream",
     "text": [
      "Optimization terminated successfully.\n",
      "         Current function value: 4.458992\n",
      "         Iterations: 16\n",
      "         Function evaluations: 22\n",
      "         Gradient evaluations: 22\n",
      "K-Fold 4: Error-1.5%\n"
     ]
    },
    {
     "name": "stderr",
     "output_type": "stream",
     "text": [
      "C:\\Users\\surya\\Anaconda3\\lib\\site-packages\\statsmodels\\base\\model.py:512: ConvergenceWarning: Maximum Likelihood optimization failed to converge. Check mle_retvals\n",
      "  \"Check mle_retvals\", ConvergenceWarning)\n"
     ]
    },
    {
     "name": "stdout",
     "output_type": "stream",
     "text": [
      "Optimization terminated successfully.\n",
      "         Current function value: 4.820854\n",
      "         Iterations: 17\n",
      "         Function evaluations: 22\n",
      "         Gradient evaluations: 22\n",
      "K-Fold 5: Error-1.02%\n"
     ]
    }
   ],
   "source": [
    "history = {} \n",
    "fold = 0\n",
    "for train_index, test_index in kf.split(X):\n",
    "    fold += 1\n",
    "    x_train, x_test = X.iloc[train_index, :].copy(), X.iloc[test_index, :].copy()\n",
    "    y_train, y_test = y.iloc[train_index].copy(), y.iloc[test_index].copy()\n",
    "    \n",
    "    sc = StandardScaler()\n",
    "    sc.fit(x_train)\n",
    "    x_train = sc.transform(x_train)\n",
    "    x_test = sc.transform(x_test)\n",
    "    \n",
    "    model = ZIP(endog=(y_train/2).astype(int), exog=x_train).fit()\n",
    "    predict = model.predict(x_test, exog_infl=np.ones((len(x_test),1)))\n",
    "    \n",
    "    error = normalised_weighted_mean_square_error(y_test, predict*2)\n",
    "    print(f\"K-Fold {fold}: Error-{round(error*100, 2)}%\")\n",
    "    history[fold] = {'model': model, 'predict': predict, 'error': error}"
   ]
  },
  {
   "cell_type": "markdown",
   "metadata": {},
   "source": [
    "# Reading the test file and creating the submission file"
   ]
  },
  {
   "cell_type": "code",
   "execution_count": 41,
   "metadata": {},
   "outputs": [],
   "source": [
    "test = pd.read_csv('test_set.csv')"
   ]
  },
  {
   "cell_type": "code",
   "execution_count": 42,
   "metadata": {},
   "outputs": [
    {
     "data": {
      "text/plain": [
       "hotel_id                  0\n",
       "city_id                 155\n",
       "content_score           155\n",
       "n_images                156\n",
       "distance_to_center      163\n",
       "avg_rating            36630\n",
       "stars                   175\n",
       "n_reviews               163\n",
       "avg_rank                  0\n",
       "avg_price                58\n",
       "avg_saving_percent       58\n",
       "dtype: int64"
      ]
     },
     "execution_count": 42,
     "metadata": {},
     "output_type": "execute_result"
    }
   ],
   "source": [
    "test.isnull().sum()"
   ]
  },
  {
   "cell_type": "code",
   "execution_count": 43,
   "metadata": {},
   "outputs": [
    {
     "name": "stdout",
     "output_type": "stream",
     "text": [
      "<class 'pandas.core.frame.DataFrame'>\n",
      "RangeIndex: 132162 entries, 0 to 132161\n",
      "Data columns (total 11 columns):\n",
      "hotel_id              132162 non-null int64\n",
      "city_id               132007 non-null float64\n",
      "content_score         132007 non-null float64\n",
      "n_images              132006 non-null float64\n",
      "distance_to_center    131999 non-null float64\n",
      "avg_rating            95532 non-null float64\n",
      "stars                 131987 non-null float64\n",
      "n_reviews             131999 non-null float64\n",
      "avg_rank              132162 non-null float64\n",
      "avg_price             132104 non-null float64\n",
      "avg_saving_percent    132104 non-null float64\n",
      "dtypes: float64(10), int64(1)\n",
      "memory usage: 11.1 MB\n"
     ]
    }
   ],
   "source": [
    "test.info()"
   ]
  },
  {
   "cell_type": "code",
   "execution_count": 44,
   "metadata": {},
   "outputs": [],
   "source": [
    "test.dropna(subset = (['content_score', 'distance_to_center', 'avg_price', 'stars']), inplace=True)"
   ]
  },
  {
   "cell_type": "code",
   "execution_count": 45,
   "metadata": {},
   "outputs": [
    {
     "data": {
      "text/plain": [
       "hotel_id                  0\n",
       "city_id                   0\n",
       "content_score             0\n",
       "n_images                  0\n",
       "distance_to_center        0\n",
       "avg_rating            36419\n",
       "stars                     0\n",
       "n_reviews                 0\n",
       "avg_rank                  0\n",
       "avg_price                 0\n",
       "avg_saving_percent        0\n",
       "dtype: int64"
      ]
     },
     "execution_count": 45,
     "metadata": {},
     "output_type": "execute_result"
    }
   ],
   "source": [
    "test.isnull().sum()"
   ]
  },
  {
   "cell_type": "code",
   "execution_count": 46,
   "metadata": {},
   "outputs": [],
   "source": [
    "hotel_id = test.hotel_id.copy()"
   ]
  },
  {
   "cell_type": "code",
   "execution_count": 47,
   "metadata": {},
   "outputs": [],
   "source": [
    "test.drop(['hotel_id', 'city_id'], inplace = True, axis = 1)"
   ]
  },
  {
   "cell_type": "code",
   "execution_count": 48,
   "metadata": {},
   "outputs": [],
   "source": [
    "test.avg_rating = test.groupby('stars')['avg_rating'].apply(lambda x: x.fillna(x.mean()))"
   ]
  },
  {
   "cell_type": "code",
   "execution_count": 49,
   "metadata": {},
   "outputs": [
    {
     "data": {
      "text/plain": [
       "content_score         0\n",
       "n_images              0\n",
       "distance_to_center    0\n",
       "avg_rating            0\n",
       "stars                 0\n",
       "n_reviews             0\n",
       "avg_rank              0\n",
       "avg_price             0\n",
       "avg_saving_percent    0\n",
       "dtype: int64"
      ]
     },
     "execution_count": 49,
     "metadata": {},
     "output_type": "execute_result"
    }
   ],
   "source": [
    "test.isnull().sum()"
   ]
  },
  {
   "cell_type": "code",
   "execution_count": 50,
   "metadata": {},
   "outputs": [],
   "source": [
    "model = history[5]['model']"
   ]
  },
  {
   "cell_type": "code",
   "execution_count": 51,
   "metadata": {},
   "outputs": [],
   "source": [
    "test = sc.transform(test)"
   ]
  },
  {
   "cell_type": "code",
   "execution_count": 52,
   "metadata": {},
   "outputs": [],
   "source": [
    "test_predict = model.predict(test, exog_infl=np.ones((len(test),1)))\n",
    "test_predict = (test_predict*2).astype(np.int)"
   ]
  },
  {
   "cell_type": "code",
   "execution_count": 53,
   "metadata": {},
   "outputs": [],
   "source": [
    "submission = pd.DataFrame({'hotel_id':hotel_id, 'n_clicks': test_predict})"
   ]
  },
  {
   "cell_type": "code",
   "execution_count": 55,
   "metadata": {},
   "outputs": [],
   "source": [
    "submission.to_csv('hotel_clicks_test_submission.csv', index=False)"
   ]
  }
 ],
 "metadata": {
  "kernelspec": {
   "display_name": "Python 3",
   "language": "python",
   "name": "python3"
  },
  "language_info": {
   "codemirror_mode": {
    "name": "ipython",
    "version": 3
   },
   "file_extension": ".py",
   "mimetype": "text/x-python",
   "name": "python",
   "nbconvert_exporter": "python",
   "pygments_lexer": "ipython3",
   "version": "3.7.3"
  }
 },
 "nbformat": 4,
 "nbformat_minor": 2
}
